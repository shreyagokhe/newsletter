{
 "cells": [
  {
   "cell_type": "code",
   "execution_count": 1,
   "metadata": {},
   "outputs": [],
   "source": [
    "import numpy\n",
    "import os     #OpenCV is used for all sorts of image and video analysis, like facial recognition and detection, \n",
    "              #license plate reading, photo editing, advanced robotic vision, optical character recognition\n",
    "import pafy   #Pafy - a Python library to download YouTube content and retrieve metadata\n",
    "import youtube_dl   #Command-line program to download videos from YouTube.com and other video sites\n",
    "import cv2"
   ]
  },
  {
   "cell_type": "code",
   "execution_count": 53,
   "metadata": {},
   "outputs": [
    {
     "data": {
      "text/plain": [
       "\u001b[1;31mInit signature:\u001b[0m \u001b[0mcv2\u001b[0m\u001b[1;33m.\u001b[0m\u001b[0mVideoCapture\u001b[0m\u001b[1;33m(\u001b[0m\u001b[0mself\u001b[0m\u001b[1;33m,\u001b[0m \u001b[1;33m/\u001b[0m\u001b[1;33m,\u001b[0m \u001b[1;33m*\u001b[0m\u001b[0margs\u001b[0m\u001b[1;33m,\u001b[0m \u001b[1;33m**\u001b[0m\u001b[0mkwargs\u001b[0m\u001b[1;33m)\u001b[0m\u001b[1;33m\u001b[0m\u001b[1;33m\u001b[0m\u001b[0m\n",
       "\u001b[1;31mDocstring:\u001b[0m      <no docstring>\n",
       "\u001b[1;31mFile:\u001b[0m           c:\\users\\shreya gokhe\\anaconda3\\lib\\site-packages\\cv2\\cv2.cp37-win_amd64.pyd\n",
       "\u001b[1;31mType:\u001b[0m           type\n",
       "\u001b[1;31mSubclasses:\u001b[0m     \n"
      ]
     },
     "metadata": {},
     "output_type": "display_data"
    }
   ],
   "source": [
    "cv2.VideoCapture??\n"
   ]
  },
  {
   "cell_type": "code",
   "execution_count": 2,
   "metadata": {},
   "outputs": [
    {
     "name": "stdout",
     "output_type": "stream",
     "text": [
      "Creating..../pok/frame0.jpg\n",
      "400\n",
      "Creating..../pok/frame1.jpg\n",
      "800\n",
      "Creating..../pok/frame2.jpg\n",
      "1200\n",
      "Creating..../pok/frame3.jpg\n",
      "1600\n",
      "Creating..../pok/frame4.jpg\n",
      "2000\n",
      "Creating..../pok/frame5.jpg\n",
      "2400\n",
      "Creating..../pok/frame6.jpg\n",
      "2800\n",
      "Creating..../pok/frame7.jpg\n",
      "3200\n",
      "Creating..../pok/frame8.jpg\n",
      "3600\n",
      "Creating..../pok/frame9.jpg\n",
      "4000\n",
      "Creating..../pok/frame10.jpg\n",
      "4400\n",
      "Creating..../pok/frame11.jpg\n",
      "4800\n",
      "Creating..../pok/frame12.jpg\n",
      "5200\n",
      "Creating..../pok/frame13.jpg\n",
      "5600\n",
      "Creating..../pok/frame14.jpg\n",
      "6000\n",
      "Creating..../pok/frame15.jpg\n",
      "6400\n",
      "Creating..../pok/frame16.jpg\n",
      "6800\n",
      "Creating..../pok/frame17.jpg\n",
      "7200\n",
      "Creating..../pok/frame18.jpg\n",
      "7600\n",
      "Creating..../pok/frame19.jpg\n",
      "8000\n",
      "Creating..../pok/frame20.jpg\n",
      "8400\n",
      "Creating..../pok/frame21.jpg\n",
      "8800\n",
      "Creating..../pok/frame22.jpg\n",
      "9200\n",
      "Creating..../pok/frame23.jpg\n",
      "9600\n",
      "Creating..../pok/frame24.jpg\n",
      "10000\n",
      "Creating..../pok/frame25.jpg\n",
      "10400\n",
      "Creating..../pok/frame26.jpg\n",
      "10800\n",
      "Creating..../pok/frame27.jpg\n",
      "11200\n",
      "Creating..../pok/frame28.jpg\n",
      "11600\n",
      "Creating..../pok/frame29.jpg\n",
      "12000\n",
      "Creating..../pok/frame30.jpg\n",
      "12400\n",
      "Creating..../pok/frame31.jpg\n",
      "12800\n",
      "Creating..../pok/frame32.jpg\n",
      "13200\n",
      "Creating..../pok/frame33.jpg\n",
      "13600\n",
      "Creating..../pok/frame34.jpg\n",
      "14000\n",
      "Creating..../pok/frame35.jpg\n",
      "14400\n",
      "Creating..../pok/frame36.jpg\n",
      "14800\n",
      "Creating..../pok/frame37.jpg\n",
      "15200\n",
      "Creating..../pok/frame38.jpg\n",
      "15600\n",
      "Creating..../pok/frame39.jpg\n",
      "16000\n",
      "Creating..../pok/frame40.jpg\n",
      "16400\n",
      "Creating..../pok/frame41.jpg\n",
      "16800\n",
      "Creating..../pok/frame42.jpg\n",
      "17200\n",
      "Creating..../pok/frame43.jpg\n",
      "17600\n",
      "Creating..../pok/frame44.jpg\n",
      "18000\n",
      "Creating..../pok/frame45.jpg\n",
      "18400\n",
      "Creating..../pok/frame46.jpg\n",
      "18800\n",
      "Creating..../pok/frame47.jpg\n",
      "19200\n",
      "Creating..../pok/frame48.jpg\n",
      "19600\n",
      "Creating..../pok/frame49.jpg\n",
      "20000\n",
      "Creating..../pok/frame50.jpg\n",
      "20400\n",
      "Creating..../pok/frame51.jpg\n",
      "20800\n",
      "Creating..../pok/frame52.jpg\n",
      "21200\n",
      "Creating..../pok/frame53.jpg\n",
      "21600\n",
      "Creating..../pok/frame54.jpg\n",
      "22000\n",
      "Creating..../pok/frame55.jpg\n",
      "22400\n",
      "Creating..../pok/frame56.jpg\n",
      "22800\n",
      "Creating..../pok/frame57.jpg\n",
      "23200\n",
      "Creating..../pok/frame58.jpg\n",
      "23600\n",
      "Creating..../pok/frame59.jpg\n",
      "24000\n",
      "Creating..../pok/frame60.jpg\n",
      "24400\n",
      "Creating..../pok/frame61.jpg\n",
      "24800\n",
      "Creating..../pok/frame62.jpg\n",
      "25200\n",
      "Creating..../pok/frame63.jpg\n",
      "25600\n",
      "Creating..../pok/frame64.jpg\n",
      "26000\n",
      "Creating..../pok/frame65.jpg\n",
      "26400\n",
      "Creating..../pok/frame66.jpg\n",
      "26800\n",
      "Creating..../pok/frame67.jpg\n",
      "27200\n",
      "Creating..../pok/frame68.jpg\n",
      "27600\n",
      "Creating..../pok/frame69.jpg\n",
      "28000\n",
      "Creating..../pok/frame70.jpg\n",
      "28400\n",
      "Creating..../pok/frame71.jpg\n",
      "28800\n",
      "Creating..../pok/frame72.jpg\n",
      "29200\n"
     ]
    }
   ],
   "source": [
    "import cv2 #OpenCV is used for all sorts of image and video analysis, like facial recognition and detection, \n",
    "            #license plate reading, photo editing, advanced robotic vision, optical character recognition\n",
    "import numpy as np  \n",
    "import youtube_dl\n",
    "import pafy\n",
    "import argparse  #automatically generates help and usage messages and issues errors when \n",
    "                 #users give the program invalid arguments.\n",
    "\n",
    "\n",
    "url = \"https://www.youtube.com/watch?v=cO3QvioMESo\"    #youtube link\n",
    "urlPafy = pafy.new(url)    #getting youtube metadata and content\n",
    "videoplay = urlPafy.getbest(preftype=\"mp4\")      # Return the highest resolution video+audio stream here mp4\n",
    "\n",
    "\n",
    "cap = cv2.VideoCapture()             #capturing video\n",
    "cap.open(videoplay.url)              #opens url\n",
    "try: \n",
    "      \n",
    "                                    # creating a folder named pok \n",
    "    if not os.path.exists('pok'): \n",
    "        os.makedirs('pok') \n",
    "        \n",
    "                                    # if not created then raise error \n",
    "except OSError: \n",
    "    print ('Error: Creating directory of data') \n",
    "  \n",
    " # frame \n",
    "currentframe = 0\n",
    "frameFrequency=400  #more the freq less images and less duplicacy,large vid we can incr the freq\n",
    "total_frame = 0     #counter\n",
    "\n",
    "while(True): \n",
    "    ret, frame = cap.read()\n",
    "    if ret is False:              #do nothing\n",
    "        break\n",
    "    total_frame += 1              #increment counter  \n",
    "    if total_frame%frameFrequency == 0:   #runs when we have a multiple of the frame freq ie. 600,900 so on in ths case\n",
    "        #id += 1\n",
    "    \n",
    "    \n",
    "    \n",
    "    \n",
    "        # reading from frame \n",
    "    #ret,frame = cap.read() \n",
    "\n",
    "\n",
    "    #if ret and currentframe%frameFrequency == 0: \n",
    "                # if video is still left continue creating images \n",
    "        \n",
    "        name = './pok/frame' + str(currentframe) + '.jpg'   #prints \n",
    "        print ('Creating...' + name) \n",
    "        print(total_frame)                                 #to understand the total_frame count\n",
    "                # writing the extracted images to the folder\n",
    "        cv2.imwrite(name, frame) \n",
    "        cv2.imshow('frame',frame) \n",
    "                # increasing counter so that it will \n",
    "                # show how many frames are created \n",
    "        currentframe += 1\n",
    "    #else: \n",
    "        #break\n",
    "\n",
    "                \n",
    "cap.release()                      # release VideoCapture\n",
    "cv2.destroyAllWindows()            #close the running vid frame"
   ]
  },
  {
   "cell_type": "code",
   "execution_count": 6,
   "metadata": {},
   "outputs": [
    {
     "name": "stdout",
     "output_type": "stream",
     "text": [
      "{}\n"
     ]
    }
   ],
   "source": [
    "import json\n",
    "import base64\n",
    "\n",
    "data = {}\n",
    "with open('C:/Users/Shreya Gokhe/Documents/bigpodium/pok/frame2.jpg', mode='rb') as file:\n",
    "    img = file.read()\n",
    "data_enc['img'] = base64.encodebytes(img)#.decode(\"utf-8\")\n",
    "\n",
    "#print(data_enc)\n",
    "print(json.dumps(data))"
   ]
  },
  {
   "cell_type": "code",
   "execution_count": 25,
   "metadata": {},
   "outputs": [
    {
     "name": "stdout",
     "output_type": "stream",
     "text": [
      "Connected successfully!!!\n"
     ]
    },
    {
     "data": {
      "text/plain": [
       "<pymongo.results.InsertOneResult at 0x181c1dded48>"
      ]
     },
     "execution_count": 25,
     "metadata": {},
     "output_type": "execute_result"
    }
   ],
   "source": [
    "from pymongo import MongoClient\n",
    "import gridfs\n",
    "\n",
    "try:\n",
    "    connect = MongoClient()\n",
    "    print(\"Connected successfully!!!\")\n",
    "except:\n",
    "    print(\"Could not connect to MongoDB\")\n",
    "    \n",
    "    \n",
    "# connecting or switching to the database \n",
    "db = connect.Imag\n",
    "fs = gridfs.GridFS(db)\n",
    "\n",
    "# read the image and convert it to RGB\n",
    "image = cv2.imread('C:/Users/Shreya Gokhe/Documents/bigpodium/pok/frame1.jpg')\n",
    "#image = cv2.cvtColor(image, cv2.COLOR_BGR2RGB)\n",
    "\n",
    "#imageString = image.str()\n",
    "\n",
    "# store the image\n",
    "#imageID = fs.put(imageString, encoding='utf-8')\n",
    "collection = db.meta\n",
    "# create our image meta data\n",
    "#meta = {\n",
    "#     \"ebay\" : {\n",
    " #       \"type\": \"online auction site\",\n",
    "#        \"logoLocation\": \"C:/Users/Shreya Gokhe/Documents/bigpodium/pok\"\n",
    "#    },\n",
    "#}\n",
    "\n",
    "# insert the meta data\n",
    "collection.insert_one(data)\n",
    "# creating or switching to demoCollection\n",
    "#collection = db.demoImages\n",
    "\n",
    "\n",
    "\n",
    "#collection.insert_one(cap)\n",
    "\n",
    "\n",
    "#cursor = collection.find()\n",
    "#for record in cursor:\n",
    "#     print(record)"
   ]
  },
  {
   "cell_type": "code",
   "execution_count": null,
   "metadata": {},
   "outputs": [],
   "source": [
    "import base64\n",
    "#encoded = 'YmFzZTY0IGVuY29kZWQgc3RyaW5n'\n",
    "im = base64.b64decode(data['img'])\n",
    "#print(im)\n",
    "\n",
    "\n",
    "db = connect.Imag\n",
    "collection = db.meta\n",
    "collection.insert_one(im)"
   ]
  },
  {
   "cell_type": "code",
   "execution_count": 9,
   "metadata": {},
   "outputs": [
    {
     "name": "stderr",
     "output_type": "stream",
     "text": [
      "C:\\Users\\Shreya Gokhe\\Anaconda3\\lib\\site-packages\\ipykernel_launcher.py:4: DeprecationWarning: encodestring() is a deprecated alias since 3.1, use encodebytes()\n",
      "  after removing the cwd from sys.path.\n",
      "C:\\Users\\Shreya Gokhe\\Anaconda3\\lib\\site-packages\\ipykernel_launcher.py:5: DeprecationWarning: decodestring() is a deprecated alias since Python 3.1, use decodebytes()\n",
      "  \"\"\"\n"
     ]
    },
    {
     "data": {
      "text/plain": [
       "92965"
      ]
     },
     "execution_count": 9,
     "metadata": {},
     "output_type": "execute_result"
    }
   ],
   "source": [
    "#encoding and decoding\n",
    "import base64\n",
    "image = open('C:/Users/Shreya Gokhe/Documents/bigpodium/pok/frame1.jpg', 'rb')\n",
    "image_read = image.read()\n",
    "image_64_encode = base64.encodestring(image_read)\n",
    "image_64_decode = base64.decodestring(image_64_encode) \n",
    "image_result = open('C:/Users/Shreya Gokhe/Documents/bigpodium/pok/frame_1.jpg', 'wb') # create a writable image and write the decoding result\n",
    "image_result.write(image_64_decode)"
   ]
  },
  {
   "cell_type": "markdown",
   "metadata": {},
   "source": [
    "### Remove duplicate images-- used only when 2 or more images are exactly same"
   ]
  },
  {
   "cell_type": "code",
   "execution_count": 3,
   "metadata": {},
   "outputs": [],
   "source": [
    "import hashlib\n",
    "from scipy.misc import imread,imresize,imshow\n",
    "import matplotlib.pyplot as plt\n",
    "import matplotlib.gridspec as gridspec\n",
    "%matplotlib inline\n",
    "import time\n",
    "import numpy as np"
   ]
  },
  {
   "cell_type": "code",
   "execution_count": 4,
   "metadata": {},
   "outputs": [],
   "source": [
    "def file_hash(filepath):\n",
    "    with open(filepath, 'rb') as f:\n",
    "        return md5(f.read()).hexdigest()"
   ]
  },
  {
   "cell_type": "code",
   "execution_count": 5,
   "metadata": {},
   "outputs": [
    {
     "data": {
      "text/plain": [
       "'C:\\\\Users\\\\Shreya Gokhe\\\\Documents\\\\bigpodium'"
      ]
     },
     "execution_count": 5,
     "metadata": {},
     "output_type": "execute_result"
    }
   ],
   "source": [
    "import os\n",
    "os.getcwd()   #current working directory"
   ]
  },
  {
   "cell_type": "code",
   "execution_count": 6,
   "metadata": {},
   "outputs": [
    {
     "data": {
      "text/plain": [
       "'C:\\\\Users\\\\Shreya Gokhe\\\\Documents\\\\bigpodium\\\\pok'"
      ]
     },
     "execution_count": 6,
     "metadata": {},
     "output_type": "execute_result"
    }
   ],
   "source": [
    "os.chdir(r'C:\\Users\\Shreya Gokhe\\Documents\\bigpodium\\pok')   #change directory\n",
    "os.getcwd()"
   ]
  },
  {
   "cell_type": "code",
   "execution_count": 7,
   "metadata": {},
   "outputs": [
    {
     "name": "stdout",
     "output_type": "stream",
     "text": [
      "['frame0.jpg', 'frame1.jpg', 'frame10.jpg', 'frame11.jpg', 'frame12.jpg', 'frame13.jpg', 'frame14.jpg', 'frame15.jpg', 'frame16.jpg', 'frame17.jpg', 'frame18.jpg', 'frame19.jpg', 'frame2.jpg', 'frame20.jpg', 'frame21.jpg', 'frame22.jpg', 'frame23.jpg', 'frame24.jpg', 'frame25.jpg', 'frame26.jpg', 'frame27.jpg', 'frame28.jpg', 'frame29.jpg', 'frame3.jpg', 'frame30.jpg', 'frame31.jpg', 'frame32.jpg', 'frame33.jpg', 'frame34.jpg', 'frame35.jpg', 'frame36.jpg', 'frame37.jpg', 'frame38.jpg', 'frame39.jpg', 'frame4.jpg', 'frame40.jpg', 'frame41.jpg', 'frame42.jpg', 'frame43.jpg', 'frame44.jpg', 'frame45.jpg', 'frame46.jpg', 'frame47.jpg', 'frame48.jpg', 'frame49.jpg', 'frame5.jpg', 'frame50.jpg', 'frame51.jpg', 'frame52.jpg', 'frame53.jpg', 'frame54.jpg', 'frame55.jpg', 'frame56.jpg', 'frame57.jpg', 'frame58.jpg', 'frame59.jpg', 'frame6.jpg', 'frame60.jpg', 'frame61.jpg', 'frame62.jpg', 'frame63.jpg', 'frame64.jpg', 'frame65.jpg', 'frame66.jpg', 'frame67.jpg', 'frame68.jpg', 'frame69.jpg', 'frame7.jpg', 'frame70.jpg', 'frame71.jpg', 'frame72.jpg', 'frame8.jpg', 'frame9.jpg']\n",
      "73\n"
     ]
    }
   ],
   "source": [
    "file_list =  os.listdir()     #listing files from the directory\n",
    "print(file_list)\n",
    "print(len(file_list))    #no of files"
   ]
  },
  {
   "cell_type": "code",
   "execution_count": 8,
   "metadata": {},
   "outputs": [],
   "source": [
    "import hashlib, os    #ncluded are the FIPS secure hash algorithms SHA1, \n",
    "                       #SHA224, SHA256, SHA384, and SHA512 (defined in FIPS 180-2) as well as RSA's MD5 algorithm \n",
    "duplicates = []\n",
    "hash_keys = dict()  \n",
    "for index, filename in enumerate(os.listdir('.')):           # listdir('.')= current directory\n",
    "    if os.path.isfile(filename):\n",
    "        with open(filename, 'rb') as f:\n",
    "            filehash = hashlib.md5(f.read()).hexdigest()\n",
    "        if filehash not in hash_keys:\n",
    "            hash_keys[filehash] = index\n",
    "        else:\n",
    "            duplicates.append((index,hash_keys[filehash]))"
   ]
  },
  {
   "cell_type": "code",
   "execution_count": 9,
   "metadata": {},
   "outputs": [
    {
     "data": {
      "text/plain": [
       "[]"
      ]
     },
     "execution_count": 9,
     "metadata": {},
     "output_type": "execute_result"
    }
   ],
   "source": [
    "duplicates"
   ]
  },
  {
   "cell_type": "code",
   "execution_count": 10,
   "metadata": {},
   "outputs": [],
   "source": [
    "for file_indexes in duplicates:\n",
    "    try:\n",
    "        \n",
    "        plt.subplot(121),plt.imshow(imread(file_list[file_indexes[1]]))\n",
    "        plt.title(file_indexes[1]),plt.xticks([]),plt.yticks([])\n",
    "        \n",
    "        plt.subplot(122),plt.imshow(imread(file_list[file_indexes[0]]))\n",
    "        plt.title(str(file_indexes[0])+ 'duplicate'),plt.xticks([]),plt.yticks([])\n",
    "        plt.show()\n",
    "        \n",
    "    except OSError as e:\n",
    "        continue"
   ]
  },
  {
   "cell_type": "code",
   "execution_count": 11,
   "metadata": {},
   "outputs": [],
   "source": [
    "for index in duplicates:\n",
    "    os.remove(file_list[index[0]])"
   ]
  },
  {
   "cell_type": "code",
   "execution_count": 12,
   "metadata": {},
   "outputs": [
    {
     "name": "stdout",
     "output_type": "stream",
     "text": [
      "73\n"
     ]
    }
   ],
   "source": [
    "file_list =  os.listdir()\n",
    "print(len(file_list))"
   ]
  },
  {
   "cell_type": "markdown",
   "metadata": {},
   "source": [
    "Remove blur images"
   ]
  },
  {
   "cell_type": "code",
   "execution_count": 13,
   "metadata": {},
   "outputs": [
    {
     "name": "stderr",
     "output_type": "stream",
     "text": [
      "usage: ipykernel_launcher.py [-h] -i IMAGES [-t THRESHOLD]\n",
      "ipykernel_launcher.py: error: the following arguments are required: -i/--images\n"
     ]
    },
    {
     "ename": "SystemExit",
     "evalue": "2",
     "output_type": "error",
     "traceback": [
      "An exception has occurred, use %tb to see the full traceback.\n",
      "\u001b[1;31mSystemExit\u001b[0m\u001b[1;31m:\u001b[0m 2\n"
     ]
    },
    {
     "name": "stderr",
     "output_type": "stream",
     "text": [
      "C:\\Users\\Shreya Gokhe\\Anaconda3\\lib\\site-packages\\IPython\\core\\interactiveshell.py:3425: UserWarning: To exit: use 'exit', 'quit', or Ctrl-D.\n",
      "  warn(\"To exit: use 'exit', 'quit', or Ctrl-D.\", stacklevel=1)\n"
     ]
    }
   ],
   "source": [
    "# import the necessary packages\n",
    "from imutils import paths\n",
    "import argparse\n",
    "import cv2\n",
    "def variance_of_laplacian(image):\n",
    "\t# compute the Laplacian of the image and then return the focus\n",
    "\t# measure, which is simply the variance of the Laplacian\n",
    "\treturn cv2.Laplacian(image, cv2.CV_64F).var()\n",
    "# construct the argument parse and parse the arguments\n",
    "ap = argparse.ArgumentParser()\n",
    "ap.add_argument(\"-i\", \"--images\", required=True,\n",
    "\thelp=\"path to input directory of images\")\n",
    "ap.add_argument(\"-t\", \"--threshold\", type=float, default=100.0,\n",
    "\thelp=\"focus measures that fall below this value will be considered 'blurry'\")\n",
    "args = vars(ap.parse_args())"
   ]
  },
  {
   "cell_type": "code",
   "execution_count": 14,
   "metadata": {},
   "outputs": [
    {
     "ename": "NameError",
     "evalue": "name 'args' is not defined",
     "output_type": "error",
     "traceback": [
      "\u001b[1;31m---------------------------------------------------------------------------\u001b[0m",
      "\u001b[1;31mNameError\u001b[0m                                 Traceback (most recent call last)",
      "\u001b[1;32m<ipython-input-14-d7b39f7ce7e4>\u001b[0m in \u001b[0;36m<module>\u001b[1;34m\u001b[0m\n\u001b[0;32m     10\u001b[0m         \u001b[1;31m# if the focus measure is less than the supplied threshold,\u001b[0m\u001b[1;33m\u001b[0m\u001b[1;33m\u001b[0m\u001b[1;33m\u001b[0m\u001b[0m\n\u001b[0;32m     11\u001b[0m         \u001b[1;31m# then the image should be considered \"blurry\"\u001b[0m\u001b[1;33m\u001b[0m\u001b[1;33m\u001b[0m\u001b[1;33m\u001b[0m\u001b[0m\n\u001b[1;32m---> 12\u001b[1;33m         \u001b[1;32mif\u001b[0m \u001b[0mfm\u001b[0m \u001b[1;33m<\u001b[0m \u001b[0margs\u001b[0m\u001b[1;33m[\u001b[0m\u001b[1;34m\"threshold\"\u001b[0m\u001b[1;33m]\u001b[0m\u001b[1;33m:\u001b[0m\u001b[1;33m\u001b[0m\u001b[1;33m\u001b[0m\u001b[0m\n\u001b[0m\u001b[0;32m     13\u001b[0m                 \u001b[0mtext\u001b[0m \u001b[1;33m=\u001b[0m \u001b[1;34m\"Blurry\"\u001b[0m\u001b[1;33m\u001b[0m\u001b[1;33m\u001b[0m\u001b[0m\n\u001b[0;32m     14\u001b[0m         \u001b[1;31m# show the image\u001b[0m\u001b[1;33m\u001b[0m\u001b[1;33m\u001b[0m\u001b[1;33m\u001b[0m\u001b[0m\n",
      "\u001b[1;31mNameError\u001b[0m: name 'args' is not defined"
     ]
    }
   ],
   "source": [
    "# loop over the input images\n",
    "for imagePath in file_list:\n",
    "\t# load the image, convert it to grayscale, and compute the\n",
    "\t# focus measure of the image using the Variance of Laplacian\n",
    "\t# method\n",
    "\timage = cv2.imread(imagePath)\n",
    "\tgray = cv2.cvtColor(image, cv2.COLOR_BGR2GRAY)\n",
    "\tfm = variance_of_laplacian(gray)\n",
    "\ttext = \"Not Blurry\"\n",
    "\t# if the focus measure is less than the supplied threshold,\n",
    "\t# then the image should be considered \"blurry\"\n",
    "\tif fm < args[\"threshold\"]:\n",
    "\t\ttext = \"Blurry\"\n",
    "\t# show the image\n",
    "\tcv2.putText(image, \"{}: {:.2f}\".format(text, fm), (10, 30),\n",
    "\t\tcv2.FONT_HERSHEY_SIMPLEX, 0.8, (0, 0, 255), 3)\n",
    "\tcv2.imshow(\"Image\", image)\n",
    "\tkey = cv2.waitKey(0)"
   ]
  },
  {
   "cell_type": "code",
   "execution_count": 60,
   "metadata": {},
   "outputs": [],
   "source": [
    "import cv2\n",
    "import os\n",
    "import glob\n",
    "import time\n",
    "blur={}\n",
    "\n",
    "def detect(image):\n",
    "    threshold = 400\n",
    "    variance = cv2.Laplacian(image, cv2.CV_64F).var()\n",
    "    if variance < threshold:\n",
    "        return True\n",
    "    return False\n",
    "\n",
    "os.chdir(r'C:\\Users\\Shreya Gokhe\\Documents\\bigpodium\\pok')  \n",
    "os.getcwd()\n",
    "\n",
    "def main():\n",
    "    print(\"Detect blurry images in dir 'pok'\")\n",
    "    #paths = glob.glob(\"pok/\")\n",
    "    file_list =  os.listdir()\n",
    "    for path in file_list:\n",
    "        start = time.time()\n",
    "        image = cv2.imread(path, 0)\n",
    "        name = os.path.basename(path)[:-4]\n",
    "        blur[name]= detect(image)\n",
    "        print(name, \" - \", detect(image), \", time: \", time.time() - start)\n",
    "        \n",
    "    print(\"End\")\n",
    "\n"
   ]
  },
  {
   "cell_type": "code",
   "execution_count": 64,
   "metadata": {},
   "outputs": [
    {
     "name": "stdout",
     "output_type": "stream",
     "text": [
      "{'frame0': True, 'frame1': False, 'frame10': False, 'frame11': False, 'frame12': False, 'frame13': False, 'frame14': False, 'frame15': False, 'frame16': False, 'frame17': False, 'frame18': False, 'frame19': False, 'frame2': False, 'frame20': False, 'frame21': False, 'frame22': False, 'frame23': True, 'frame24': False, 'frame25': False, 'frame26': False, 'frame27': False, 'frame28': False, 'frame29': False, 'frame3': False, 'frame30': False, 'frame31': False, 'frame32': False, 'frame33': False, 'frame34': False, 'frame35': False, 'frame36': False, 'frame37': False, 'frame38': False, 'frame39': False, 'frame4': False, 'frame40': False, 'frame41': False, 'frame42': False, 'frame43': False, 'frame44': False, 'frame45': False, 'frame46': True, 'frame47': False, 'frame48': True, 'frame49': False, 'frame5': False, 'frame50': False, 'frame51': False, 'frame52': False, 'frame53': False, 'frame54': False, 'frame55': False, 'frame56': False, 'frame57': False, 'frame58': False, 'frame59': True, 'frame6': False, 'frame60': True, 'frame61': False, 'frame62': False, 'frame63': False, 'frame64': False, 'frame65': False, 'frame66': False, 'frame67': False, 'frame68': False, 'frame69': False, 'frame7': False, 'frame70': False, 'frame71': False, 'frame72': False, 'frame8': False, 'frame9': False}\n"
     ]
    }
   ],
   "source": [
    "print(blur)"
   ]
  },
  {
   "cell_type": "code",
   "execution_count": 62,
   "metadata": {},
   "outputs": [
    {
     "name": "stdout",
     "output_type": "stream",
     "text": [
      "Detect blurry images in dir 'pok'\n",
      "frame0  -  True , time:  0.0628664493560791\n",
      "frame1  -  False , time:  0.07349753379821777\n",
      "frame10  -  False , time:  0.08277750015258789\n",
      "frame11  -  False , time:  0.071807861328125\n",
      "frame12  -  False , time:  0.06582403182983398\n",
      "frame13  -  False , time:  0.07280516624450684\n",
      "frame14  -  False , time:  0.07779049873352051\n",
      "frame15  -  False , time:  0.06981253623962402\n",
      "frame16  -  False , time:  0.06282687187194824\n",
      "frame17  -  False , time:  0.08066439628601074\n",
      "frame18  -  False , time:  0.07679414749145508\n",
      "frame19  -  False , time:  0.07885313034057617\n",
      "frame2  -  False , time:  0.08760333061218262\n",
      "frame20  -  False , time:  0.07472705841064453\n",
      "frame21  -  False , time:  0.08177995681762695\n",
      "frame22  -  False , time:  0.07280659675598145\n",
      "frame23  -  True , time:  0.08377599716186523\n",
      "frame24  -  False , time:  0.07782387733459473\n",
      "frame25  -  False , time:  0.07350778579711914\n",
      "frame26  -  False , time:  0.07276701927185059\n",
      "frame27  -  False , time:  0.06682705879211426\n",
      "frame28  -  False , time:  0.06183624267578125\n",
      "frame29  -  False , time:  0.06981062889099121\n",
      "frame3  -  False , time:  0.06781744956970215\n",
      "frame30  -  False , time:  0.05884265899658203\n",
      "frame31  -  False , time:  0.06283259391784668\n",
      "frame32  -  False , time:  0.07683205604553223\n",
      "frame33  -  False , time:  0.06286907196044922\n",
      "frame34  -  False , time:  0.07415580749511719\n",
      "frame35  -  False , time:  0.06781792640686035\n",
      "frame36  -  False , time:  0.05989265441894531\n",
      "frame37  -  False , time:  0.05784487724304199\n",
      "frame38  -  False , time:  0.06482648849487305\n",
      "frame39  -  False , time:  0.067840576171875\n",
      "frame4  -  False , time:  0.06781864166259766\n",
      "frame40  -  False , time:  0.06382966041564941\n",
      "frame41  -  False , time:  0.056891441345214844\n",
      "frame42  -  False , time:  0.07982039451599121\n",
      "frame43  -  False , time:  0.07180929183959961\n",
      "frame44  -  False , time:  0.07280659675598145\n",
      "frame45  -  False , time:  0.07878923416137695\n",
      "frame46  -  True , time:  0.074798583984375\n",
      "frame47  -  False , time:  0.07180523872375488\n",
      "frame48  -  True , time:  0.06676435470581055\n",
      "frame49  -  False , time:  0.08178019523620605\n",
      "frame5  -  False , time:  0.06083822250366211\n",
      "frame50  -  False , time:  0.06183743476867676\n",
      "frame51  -  False , time:  0.06682085990905762\n",
      "frame52  -  False , time:  0.07388782501220703\n",
      "frame53  -  False , time:  0.07476139068603516\n",
      "frame54  -  False , time:  0.06881594657897949\n",
      "frame55  -  False , time:  0.0758357048034668\n",
      "frame56  -  False , time:  0.08178138732910156\n",
      "frame57  -  False , time:  0.07978677749633789\n",
      "frame58  -  False , time:  0.0827798843383789\n",
      "frame59  -  True , time:  0.071807861328125\n",
      "frame6  -  False , time:  0.0737600326538086\n",
      "frame60  -  True , time:  0.06283235549926758\n",
      "frame61  -  False , time:  0.07779216766357422\n",
      "frame62  -  False , time:  0.07679510116577148\n",
      "frame63  -  False , time:  0.05684781074523926\n",
      "frame64  -  False , time:  0.06881403923034668\n",
      "frame65  -  False , time:  0.08178567886352539\n",
      "frame66  -  False , time:  0.07776260375976562\n",
      "frame67  -  False , time:  0.07081103324890137\n",
      "frame68  -  False , time:  0.07779097557067871\n",
      "frame69  -  False , time:  0.07379913330078125\n",
      "frame7  -  False , time:  0.08185696601867676\n",
      "frame70  -  False , time:  0.08975648880004883\n",
      "frame71  -  False , time:  0.08078527450561523\n",
      "frame72  -  False , time:  0.07901740074157715\n",
      "frame8  -  False , time:  0.06681990623474121\n",
      "frame9  -  False , time:  0.07180953025817871\n",
      "End\n"
     ]
    }
   ],
   "source": [
    "if __name__ == '__main__':\n",
    "    main()"
   ]
  },
  {
   "cell_type": "code",
   "execution_count": 72,
   "metadata": {},
   "outputs": [
    {
     "ename": "KeyError",
     "evalue": "True",
     "output_type": "error",
     "traceback": [
      "\u001b[1;31m---------------------------------------------------------------------------\u001b[0m",
      "\u001b[1;31mKeyError\u001b[0m                                  Traceback (most recent call last)",
      "\u001b[1;32m<ipython-input-72-318eab0017a1>\u001b[0m in \u001b[0;36m<module>\u001b[1;34m\u001b[0m\n\u001b[1;32m----> 1\u001b[1;33m \u001b[1;32mif\u001b[0m \u001b[0mblur\u001b[0m\u001b[1;33m[\u001b[0m\u001b[1;32mTrue\u001b[0m\u001b[1;33m]\u001b[0m\u001b[1;33m:\u001b[0m\u001b[1;33m\u001b[0m\u001b[1;33m\u001b[0m\u001b[0m\n\u001b[0m\u001b[0;32m      2\u001b[0m        \u001b[0mos\u001b[0m\u001b[1;33m.\u001b[0m\u001b[0mremove\u001b[0m\u001b[1;33m(\u001b[0m\u001b[1;34m\"\"\u001b[0m\u001b[1;33m)\u001b[0m\u001b[1;33m\u001b[0m\u001b[1;33m\u001b[0m\u001b[0m\n",
      "\u001b[1;31mKeyError\u001b[0m: True"
     ]
    }
   ],
   "source": [
    "if blur[True]:\n",
    "       os.remove()"
   ]
  },
  {
   "cell_type": "code",
   "execution_count": 39,
   "metadata": {},
   "outputs": [],
   "source": [
    "\n"
   ]
  },
  {
   "cell_type": "code",
   "execution_count": null,
   "metadata": {},
   "outputs": [],
   "source": []
  }
 ],
 "metadata": {
  "kernelspec": {
   "display_name": "Python 3",
   "language": "python",
   "name": "python3"
  },
  "language_info": {
   "codemirror_mode": {
    "name": "ipython",
    "version": 3
   },
   "file_extension": ".py",
   "mimetype": "text/x-python",
   "name": "python",
   "nbconvert_exporter": "python",
   "pygments_lexer": "ipython3",
   "version": "3.7.3"
  }
 },
 "nbformat": 4,
 "nbformat_minor": 4
}
