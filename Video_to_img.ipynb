{
 "cells": [
  {
   "cell_type": "code",
   "execution_count": 1,
   "metadata": {},
   "outputs": [],
   "source": [
    "import numpy\n",
    "import os     #OpenCV is used for all sorts of image and video analysis, like facial recognition and detection, \n",
    "              #license plate reading, photo editing, advanced robotic vision, optical character recognition\n",
    "import pafy   #Pafy - a Python library to download YouTube content and retrieve metadata\n",
    "import youtube_dl   #Command-line program to download videos from YouTube.com and other video sites\n",
    "import cv2"
   ]
  },
  {
   "cell_type": "code",
   "execution_count": 53,
   "metadata": {},
   "outputs": [
    {
     "data": {
      "text/plain": [
       "\u001b[1;31mInit signature:\u001b[0m \u001b[0mcv2\u001b[0m\u001b[1;33m.\u001b[0m\u001b[0mVideoCapture\u001b[0m\u001b[1;33m(\u001b[0m\u001b[0mself\u001b[0m\u001b[1;33m,\u001b[0m \u001b[1;33m/\u001b[0m\u001b[1;33m,\u001b[0m \u001b[1;33m*\u001b[0m\u001b[0margs\u001b[0m\u001b[1;33m,\u001b[0m \u001b[1;33m**\u001b[0m\u001b[0mkwargs\u001b[0m\u001b[1;33m)\u001b[0m\u001b[1;33m\u001b[0m\u001b[1;33m\u001b[0m\u001b[0m\n",
       "\u001b[1;31mDocstring:\u001b[0m      <no docstring>\n",
       "\u001b[1;31mFile:\u001b[0m           c:\\users\\shreya gokhe\\anaconda3\\lib\\site-packages\\cv2\\cv2.cp37-win_amd64.pyd\n",
       "\u001b[1;31mType:\u001b[0m           type\n",
       "\u001b[1;31mSubclasses:\u001b[0m     \n"
      ]
     },
     "metadata": {},
     "output_type": "display_data"
    }
   ],
   "source": [
    "cv2.VideoCapture??\n"
   ]
  },
  {
   "cell_type": "code",
   "execution_count": 2,
   "metadata": {},
   "outputs": [
    {
     "name": "stdout",
     "output_type": "stream",
     "text": [
      "Creating..../pok/frame0.jpg\n",
      "400\n",
      "Creating..../pok/frame1.jpg\n",
      "800\n",
      "Creating..../pok/frame2.jpg\n",
      "1200\n",
      "Creating..../pok/frame3.jpg\n",
      "1600\n",
      "Creating..../pok/frame4.jpg\n",
      "2000\n",
      "Creating..../pok/frame5.jpg\n",
      "2400\n",
      "Creating..../pok/frame6.jpg\n",
      "2800\n",
      "Creating..../pok/frame7.jpg\n",
      "3200\n",
      "Creating..../pok/frame8.jpg\n",
      "3600\n",
      "Creating..../pok/frame9.jpg\n",
      "4000\n",
      "Creating..../pok/frame10.jpg\n",
      "4400\n",
      "Creating..../pok/frame11.jpg\n",
      "4800\n",
      "Creating..../pok/frame12.jpg\n",
      "5200\n",
      "Creating..../pok/frame13.jpg\n",
      "5600\n",
      "Creating..../pok/frame14.jpg\n",
      "6000\n",
      "Creating..../pok/frame15.jpg\n",
      "6400\n",
      "Creating..../pok/frame16.jpg\n",
      "6800\n",
      "Creating..../pok/frame17.jpg\n",
      "7200\n",
      "Creating..../pok/frame18.jpg\n",
      "7600\n",
      "Creating..../pok/frame19.jpg\n",
      "8000\n",
      "Creating..../pok/frame20.jpg\n",
      "8400\n",
      "Creating..../pok/frame21.jpg\n",
      "8800\n",
      "Creating..../pok/frame22.jpg\n",
      "9200\n",
      "Creating..../pok/frame23.jpg\n",
      "9600\n",
      "Creating..../pok/frame24.jpg\n",
      "10000\n",
      "Creating..../pok/frame25.jpg\n",
      "10400\n",
      "Creating..../pok/frame26.jpg\n",
      "10800\n",
      "Creating..../pok/frame27.jpg\n",
      "11200\n",
      "Creating..../pok/frame28.jpg\n",
      "11600\n",
      "Creating..../pok/frame29.jpg\n",
      "12000\n",
      "Creating..../pok/frame30.jpg\n",
      "12400\n",
      "Creating..../pok/frame31.jpg\n",
      "12800\n",
      "Creating..../pok/frame32.jpg\n",
      "13200\n",
      "Creating..../pok/frame33.jpg\n",
      "13600\n",
      "Creating..../pok/frame34.jpg\n",
      "14000\n",
      "Creating..../pok/frame35.jpg\n",
      "14400\n",
      "Creating..../pok/frame36.jpg\n",
      "14800\n",
      "Creating..../pok/frame37.jpg\n",
      "15200\n",
      "Creating..../pok/frame38.jpg\n",
      "15600\n",
      "Creating..../pok/frame39.jpg\n",
      "16000\n",
      "Creating..../pok/frame40.jpg\n",
      "16400\n",
      "Creating..../pok/frame41.jpg\n",
      "16800\n",
      "Creating..../pok/frame42.jpg\n",
      "17200\n",
      "Creating..../pok/frame43.jpg\n",
      "17600\n",
      "Creating..../pok/frame44.jpg\n",
      "18000\n",
      "Creating..../pok/frame45.jpg\n",
      "18400\n",
      "Creating..../pok/frame46.jpg\n",
      "18800\n",
      "Creating..../pok/frame47.jpg\n",
      "19200\n",
      "Creating..../pok/frame48.jpg\n",
      "19600\n",
      "Creating..../pok/frame49.jpg\n",
      "20000\n",
      "Creating..../pok/frame50.jpg\n",
      "20400\n",
      "Creating..../pok/frame51.jpg\n",
      "20800\n",
      "Creating..../pok/frame52.jpg\n",
      "21200\n",
      "Creating..../pok/frame53.jpg\n",
      "21600\n",
      "Creating..../pok/frame54.jpg\n",
      "22000\n",
      "Creating..../pok/frame55.jpg\n",
      "22400\n",
      "Creating..../pok/frame56.jpg\n",
      "22800\n",
      "Creating..../pok/frame57.jpg\n",
      "23200\n",
      "Creating..../pok/frame58.jpg\n",
      "23600\n",
      "Creating..../pok/frame59.jpg\n",
      "24000\n",
      "Creating..../pok/frame60.jpg\n",
      "24400\n",
      "Creating..../pok/frame61.jpg\n",
      "24800\n",
      "Creating..../pok/frame62.jpg\n",
      "25200\n",
      "Creating..../pok/frame63.jpg\n",
      "25600\n",
      "Creating..../pok/frame64.jpg\n",
      "26000\n",
      "Creating..../pok/frame65.jpg\n",
      "26400\n",
      "Creating..../pok/frame66.jpg\n",
      "26800\n",
      "Creating..../pok/frame67.jpg\n",
      "27200\n",
      "Creating..../pok/frame68.jpg\n",
      "27600\n",
      "Creating..../pok/frame69.jpg\n",
      "28000\n",
      "Creating..../pok/frame70.jpg\n",
      "28400\n",
      "Creating..../pok/frame71.jpg\n",
      "28800\n",
      "Creating..../pok/frame72.jpg\n",
      "29200\n"
     ]
    }
   ],
   "source": [
    "import cv2 #OpenCV is used for all sorts of image and video analysis, like facial recognition and detection, \n",
    "            #license plate reading, photo editing, advanced robotic vision, optical character recognition\n",
    "import numpy as np  \n",
    "import youtube_dl\n",
    "import pafy\n",
    "import argparse  #automatically generates help and usage messages and issues errors when \n",
    "                 #users give the program invalid arguments.\n",
    "\n",
    "\n",
    "url = \"https://www.youtube.com/watch?v=cO3QvioMESo\"    #youtube link\n",
    "urlPafy = pafy.new(url)    #getting youtube metadata and content\n",
    "videoplay = urlPafy.getbest(preftype=\"mp4\")      # Return the highest resolution video+audio stream here mp4\n",
    "\n",
    "\n",
    "cap = cv2.VideoCapture()             #capturing video\n",
    "cap.open(videoplay.url)              #opens url\n",
    "try: \n",
    "      \n",
    "                                    # creating a folder named pok \n",
    "    if not os.path.exists('pok'): \n",
    "        os.makedirs('pok') \n",
    "        \n",
    "                                    # if not created then raise error \n",
    "except OSError: \n",
    "    print ('Error: Creating directory of data') \n",
    "  \n",
    " # frame \n",
    "currentframe = 0\n",
    "frameFrequency=400  #more the freq less images and less duplicacy,large vid we can incr the freq\n",
    "total_frame = 0     #counter\n",
    "\n",
    "while(True): \n",
    "    ret, frame = cap.read()\n",
    "    if ret is False:              #do nothing\n",
    "        break\n",
    "    total_frame += 1              #increment counter  \n",
    "    if total_frame%frameFrequency == 0:   #runs when we have a multiple of the frame freq ie. 600,900 so on in ths case\n",
    "        #id += 1\n",
    "    \n",
    "    \n",
    "    \n",
    "    \n",
    "        # reading from frame \n",
    "    #ret,frame = cap.read() \n",
    "\n",
    "\n",
    "    #if ret and currentframe%frameFrequency == 0: \n",
    "                # if video is still left continue creating images \n",
    "        \n",
    "        name = './pok/frame' + str(currentframe) + '.jpg'   #prints \n",
    "        print ('Creating...' + name) \n",
    "        print(total_frame)                                 #to understand the total_frame count\n",
    "                # writing the extracted images to the folder\n",
    "        cv2.imwrite(name, frame) \n",
    "        cv2.imshow('frame',frame) \n",
    "                # increasing counter so that it will \n",
    "                # show how many frames are created \n",
    "        currentframe += 1\n",
    "    #else: \n",
    "        #break\n",
    "\n",
    "                \n",
    "cap.release()                      # release VideoCapture\n",
    "cv2.destroyAllWindows()            #close the running vid frame"
   ]
  },
  {
   "cell_type": "code",
   "execution_count": 6,
   "metadata": {},
   "outputs": [
    {
     "name": "stdout",
     "output_type": "stream",
     "text": [
      "{}\n"
     ]
    }
   ],
   "source": [
    "import json\n",
    "import base64\n",
    "\n",
    "data = {}\n",
    "with open('C:/Users/Shreya Gokhe/Documents/bigpodium/pok/frame2.jpg', mode='rb') as file:\n",
    "    img = file.read()\n",
    "data_enc['img'] = base64.encodebytes(img)#.decode(\"utf-8\")\n",
    "\n",
    "#print(data_enc)\n",
    "print(json.dumps(data))"
   ]
  },
  {
   "cell_type": "code",
   "execution_count": 25,
   "metadata": {},
   "outputs": [
    {
     "name": "stdout",
     "output_type": "stream",
     "text": [
      "Connected successfully!!!\n"
     ]
    },
    {
     "data": {
      "text/plain": [
       "<pymongo.results.InsertOneResult at 0x181c1dded48>"
      ]
     },
     "execution_count": 25,
     "metadata": {},
     "output_type": "execute_result"
    }
   ],
   "source": [
    "from pymongo import MongoClient\n",
    "import gridfs\n",
    "\n",
    "try:\n",
    "    connect = MongoClient()\n",
    "    print(\"Connected successfully!!!\")\n",
    "except:\n",
    "    print(\"Could not connect to MongoDB\")\n",
    "    \n",
    "    \n",
    "# connecting or switching to the database \n",
    "db = connect.Imag\n",
    "fs = gridfs.GridFS(db)\n",
    "\n",
    "# read the image and convert it to RGB\n",
    "image = cv2.imread('C:/Users/Shreya Gokhe/Documents/bigpodium/pok/frame1.jpg')\n",
    "#image = cv2.cvtColor(image, cv2.COLOR_BGR2RGB)\n",
    "\n",
    "#imageString = image.str()\n",
    "\n",
    "# store the image\n",
    "#imageID = fs.put(imageString, encoding='utf-8')\n",
    "collection = db.meta\n",
    "# create our image meta data\n",
    "#meta = {\n",
    "#     \"ebay\" : {\n",
    " #       \"type\": \"online auction site\",\n",
    "#        \"logoLocation\": \"C:/Users/Shreya Gokhe/Documents/bigpodium/pok\"\n",
    "#    },\n",
    "#}\n",
    "\n",
    "# insert the meta data\n",
    "collection.insert_one(data)\n",
    "# creating or switching to demoCollection\n",
    "#collection = db.demoImages\n",
    "\n",
    "\n",
    "\n",
    "#collection.insert_one(cap)\n",
    "\n",
    "\n",
    "#cursor = collection.find()\n",
    "#for record in cursor:\n",
    "#     print(record)"
   ]
  },
  {
   "cell_type": "code",
   "execution_count": null,
   "metadata": {},
   "outputs": [],
   "source": [
    "import base64\n",
    "#encoded = 'YmFzZTY0IGVuY29kZWQgc3RyaW5n'\n",
    "im = base64.b64decode(data['img'])\n",
    "#print(im)\n",
    "\n",
    "\n",
    "db = connect.Imag\n",
    "collection = db.meta\n",
    "collection.insert_one(im)"
   ]
  },
  {
   "cell_type": "code",
   "execution_count": 9,
   "metadata": {},
   "outputs": [
    {
     "name": "stderr",
     "output_type": "stream",
     "text": [
      "C:\\Users\\Shreya Gokhe\\Anaconda3\\lib\\site-packages\\ipykernel_launcher.py:4: DeprecationWarning: encodestring() is a deprecated alias since 3.1, use encodebytes()\n",
      "  after removing the cwd from sys.path.\n",
      "C:\\Users\\Shreya Gokhe\\Anaconda3\\lib\\site-packages\\ipykernel_launcher.py:5: DeprecationWarning: decodestring() is a deprecated alias since Python 3.1, use decodebytes()\n",
      "  \"\"\"\n"
     ]
    },
    {
     "data": {
      "text/plain": [
       "92965"
      ]
     },
     "execution_count": 9,
     "metadata": {},
     "output_type": "execute_result"
    }
   ],
   "source": [
    "#encoding and decoding\n",
    "import base64\n",
    "image = open('C:/Users/Shreya Gokhe/Documents/bigpodium/pok/frame1.jpg', 'rb')\n",
    "image_read = image.read()\n",
    "image_64_encode = base64.encodestring(image_read)\n",
    "image_64_decode = base64.decodestring(image_64_encode) \n",
    "image_result = open('C:/Users/Shreya Gokhe/Documents/bigpodium/pok/frame_1.jpg', 'wb') # create a writable image and write the decoding result\n",
    "image_result.write(image_64_decode)"
   ]
  },
  {
   "cell_type": "markdown",
   "metadata": {},
   "source": [
    "### Remove duplicate images-- used only when 2 or more images are exactly same"
   ]
  },
  {
   "cell_type": "code",
   "execution_count": 3,
   "metadata": {},
   "outputs": [],
   "source": [
    "import hashlib\n",
    "from scipy.misc import imread,imresize,imshow\n",
    "import matplotlib.pyplot as plt\n",
    "import matplotlib.gridspec as gridspec\n",
    "%matplotlib inline\n",
    "import time\n",
    "import numpy as np"
   ]
  },
  {
   "cell_type": "code",
   "execution_count": 4,
   "metadata": {},
   "outputs": [],
   "source": [
    "def file_hash(filepath):\n",
    "    with open(filepath, 'rb') as f:\n",
    "        return md5(f.read()).hexdigest()"
   ]
  },
  {
   "cell_type": "code",
   "execution_count": 5,
   "metadata": {},
   "outputs": [
    {
     "data": {
      "text/plain": [
       "'C:\\\\Users\\\\Shreya Gokhe\\\\Documents\\\\bigpodium'"
      ]
     },
     "execution_count": 5,
     "metadata": {},
     "output_type": "execute_result"
    }
   ],
   "source": [
    "import os\n",
    "os.getcwd()   #current working directory"
   ]
  },
  {
   "cell_type": "code",
   "execution_count": 6,
   "metadata": {},
   "outputs": [
    {
     "data": {
      "text/plain": [
       "'C:\\\\Users\\\\Shreya Gokhe\\\\Documents\\\\bigpodium\\\\pok'"
      ]
     },
     "execution_count": 6,
     "metadata": {},
     "output_type": "execute_result"
    }
   ],
   "source": [
    "os.chdir(r'C:\\Users\\Shreya Gokhe\\Documents\\bigpodium\\pok')   #change directory\n",
    "os.getcwd()"
   ]
  },
  {
   "cell_type": "code",
   "execution_count": 7,
   "metadata": {},
   "outputs": [
    {
     "name": "stdout",
     "output_type": "stream",
     "text": [
      "['frame0.jpg', 'frame1.jpg', 'frame10.jpg', 'frame11.jpg', 'frame12.jpg', 'frame13.jpg', 'frame14.jpg', 'frame15.jpg', 'frame16.jpg', 'frame17.jpg', 'frame18.jpg', 'frame19.jpg', 'frame2.jpg', 'frame20.jpg', 'frame21.jpg', 'frame22.jpg', 'frame23.jpg', 'frame24.jpg', 'frame25.jpg', 'frame26.jpg', 'frame27.jpg', 'frame28.jpg', 'frame29.jpg', 'frame3.jpg', 'frame30.jpg', 'frame31.jpg', 'frame32.jpg', 'frame33.jpg', 'frame34.jpg', 'frame35.jpg', 'frame36.jpg', 'frame37.jpg', 'frame38.jpg', 'frame39.jpg', 'frame4.jpg', 'frame40.jpg', 'frame41.jpg', 'frame42.jpg', 'frame43.jpg', 'frame44.jpg', 'frame45.jpg', 'frame46.jpg', 'frame47.jpg', 'frame48.jpg', 'frame49.jpg', 'frame5.jpg', 'frame50.jpg', 'frame51.jpg', 'frame52.jpg', 'frame53.jpg', 'frame54.jpg', 'frame55.jpg', 'frame56.jpg', 'frame57.jpg', 'frame58.jpg', 'frame59.jpg', 'frame6.jpg', 'frame60.jpg', 'frame61.jpg', 'frame62.jpg', 'frame63.jpg', 'frame64.jpg', 'frame65.jpg', 'frame66.jpg', 'frame67.jpg', 'frame68.jpg', 'frame69.jpg', 'frame7.jpg', 'frame70.jpg', 'frame71.jpg', 'frame72.jpg', 'frame8.jpg', 'frame9.jpg']\n",
      "73\n"
     ]
    }
   ],
   "source": [
    "file_list =  os.listdir()     #listing files from the directory\n",
    "print(file_list)\n",
    "print(len(file_list))    #no of files"
   ]
  },
  {
   "cell_type": "code",
   "execution_count": 8,
   "metadata": {},
   "outputs": [],
   "source": [
    "import hashlib, os    #ncluded are the FIPS secure hash algorithms SHA1, \n",
    "                       #SHA224, SHA256, SHA384, and SHA512 (defined in FIPS 180-2) as well as RSA's MD5 algorithm \n",
    "duplicates = []\n",
    "hash_keys = dict()  \n",
    "for index, filename in enumerate(os.listdir('.')):           # listdir('.')= current directory\n",
    "    if os.path.isfile(filename):\n",
    "        with open(filename, 'rb') as f:\n",
    "            filehash = hashlib.md5(f.read()).hexdigest()\n",
    "        if filehash not in hash_keys:\n",
    "            hash_keys[filehash] = index\n",
    "        else:\n",
    "            duplicates.append((index,hash_keys[filehash]))"
   ]
  },
  {
   "cell_type": "code",
   "execution_count": 9,
   "metadata": {},
   "outputs": [
    {
     "data": {
      "text/plain": [
       "[]"
      ]
     },
     "execution_count": 9,
     "metadata": {},
     "output_type": "execute_result"
    }
   ],
   "source": [
    "duplicates"
   ]
  },
  {
   "cell_type": "code",
   "execution_count": 10,
   "metadata": {},
   "outputs": [],
   "source": [
    "for file_indexes in duplicates:\n",
    "    try:\n",
    "        \n",
    "        plt.subplot(121),plt.imshow(imread(file_list[file_indexes[1]]))\n",
    "        plt.title(file_indexes[1]),plt.xticks([]),plt.yticks([])\n",
    "        \n",
    "        plt.subplot(122),plt.imshow(imread(file_list[file_indexes[0]]))\n",
    "        plt.title(str(file_indexes[0])+ 'duplicate'),plt.xticks([]),plt.yticks([])\n",
    "        plt.show()\n",
    "        \n",
    "    except OSError as e:\n",
    "        continue"
   ]
  },
  {
   "cell_type": "code",
   "execution_count": 11,
   "metadata": {},
   "outputs": [],
   "source": [
    "for index in duplicates:\n",
    "    os.remove(file_list[index[0]])"
   ]
  },
  {
   "cell_type": "code",
   "execution_count": 12,
   "metadata": {},
   "outputs": [
    {
     "name": "stdout",
     "output_type": "stream",
     "text": [
      "73\n"
     ]
    }
   ],
   "source": [
    "file_list =  os.listdir()\n",
    "print(len(file_list))"
   ]
  },
  {
   "cell_type": "code",
   "execution_count": null,
   "metadata": {},
   "outputs": [],
   "source": []
  },
  {
   "cell_type": "code",
   "execution_count": null,
   "metadata": {},
   "outputs": [],
   "source": []
  }
 ],
 "metadata": {
  "kernelspec": {
   "display_name": "Python 3",
   "language": "python",
   "name": "python3"
  },
  "language_info": {
   "codemirror_mode": {
    "name": "ipython",
    "version": 3
   },
   "file_extension": ".py",
   "mimetype": "text/x-python",
   "name": "python",
   "nbconvert_exporter": "python",
   "pygments_lexer": "ipython3",
   "version": "3.7.3"
  }
 },
 "nbformat": 4,
 "nbformat_minor": 4
}
